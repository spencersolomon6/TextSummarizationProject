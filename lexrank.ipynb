{
 "cells": [
  {
   "attachments": {},
   "cell_type": "markdown",
   "metadata": {},
   "source": [
    "# LexRank Experimentation\n",
    "\n",
    "This notebook was used for experimenting and figuring out how to implement LexRank by following the algorithm(s) described in it's paper."
   ]
  },
  {
   "cell_type": "code",
   "execution_count": 1,
   "metadata": {},
   "outputs": [],
   "source": [
    "from sklearn.feature_extraction.text import TfidfVectorizer\n",
    "from sklearn.metrics.pairwise import cosine_similarity"
   ]
  },
  {
   "cell_type": "code",
   "execution_count": 2,
   "metadata": {},
   "outputs": [],
   "source": [
    "# From: https://www.reuters.com/lifestyle/science/compact-galaxys-discovery-shows-webb-telescopes-amazing-power-2023-04-14/\n",
    "\n",
    "corpus = [\n",
    "    'The detection of a highly compact galaxy that formed relatively soon after the Big Bang'\n",
    "    ' and displayed an impressive rate of star formation is the latest example of how the James'\n",
    "    ' Webb Space Telescope is reshaping our understanding of the early universe.',\n",
    "\n",
    "    ' Scientists said the galaxy, dating to 13.3 billion years ago, has a diameter of approximately '\n",
    "    '100 light-years - about 1,000 times smaller than the Milky Way - but forms new stars at a rate '\n",
    "    'very similar to that of our much-larger present-day galaxy. A light-year is the distance light '\n",
    "    'travels in a year, 5.9 trillion miles (9.5 trillion km).',\n",
    "\n",
    "    'It existed about 510 million years after the Big Bang event marking the universe\\'s origin. ',\n",
    "    \n",
    "    'The universe at the time was less than 4% of its current age.',\n",
    "\n",
    "    'The discovery is another example of how observations by Webb, which was launched in 2021 and '\n",
    "    'began collecting data last year, are transforming our knowledge of the nature of the early '\n",
    "    'universe.',\n",
    "\n",
    "    'The orbiting infrared observatory was designed to be far more sensitive than its Hubble Space '\n",
    "    'Telescope predecessor.',\n",
    "\n",
    "    '\"Our current understanding of galaxy formation in the early universe doesn\\'t predict that we '\n",
    "    'would see this many galaxies at such early times in the universe\\'s life, so this is really '\n",
    "    'exciting,\" said Hayley Williams, a University of Minnesota doctoral student in astrophysics and'\n",
    "    ' lead author of the study published this week in the journal Science.',\n",
    "\n",
    "    '\"As we observe more and more of these distant galaxies, we\\'ll be able to put together a more '\n",
    "    'complete picture of how the first galaxies in our universe came to be,\" Williams added. ',\n",
    "\n",
    "    '\"We are seeing that the galaxies that existed in the early universe are very different from the '\n",
    "    'galaxies that exist today and that our usual assumptions about galaxy properties may not apply '\n",
    "    'in the early universe.\"',\n",
    "\n",
    "    'Webb looks at the universe mainly in the infrared, while Hubble has examined it primarily at optical'\n",
    "    ' and ultraviolet wavelengths. Webb possesses a much bigger light-collecting area, letting it look at'\n",
    "    ' greater distances, thus farther back into time, than Hubble.',\n",
    "\n",
    "    '\"JWST\\'s (James Webb Space Telescope\\'s) reach into the first billion years of the universe has been '\n",
    "    'amazing, and has given astronomers a lot to consider and try to understand about when and how many '\n",
    "    'galaxies formed,\" University of Minnesota astronomy professor and study co-author Patrick Kelly said.',\n",
    "\n",
    "    'What is being observed in the newly described galaxy, Kelly said, might be a \"globular cluster\" - a '\n",
    "    'tightly bound collection of tens of thousands to millions of stars - in the process of forming.',\n",
    "\n",
    "    'This galaxy, Kelly said, is \"absolutely tiny\" in relative terms.',\n",
    "\n",
    "    '\"Nonetheless, we found that it was forming about two stars each year, which is similar to the rate at '\n",
    "    'which the Milky Way is forming stars,\" Kelly added.',\n",
    "\n",
    "    'The researchers examined this galaxy\\'s chemical composition, finding, for example, an oxygen abundance'\n",
    "    ' much lower than typically found in present-day galaxies - and for good reason. Oxygen and other elements'\n",
    "    ' heavier than hydrogen and helium are forged in the thermonuclear furnaces at the interior of stars and '\n",
    "    'then blown into space when stars explode at the end of their life cycles.',\n",
    "\n",
    "    'Because so many fewer stars had lived and died at that time in the universe, such heavier elements were more scarce.',\n",
    "\n",
    "    'Observing this galaxy was aided by a phenomenon called \"gravitational lensing\" that occurs when an immense'\n",
    "    ' amount of matter, like a grouping of galaxies, creates a gravitational field that distorts and magnifies '\n",
    "    'light traveling from distant galaxies located behind it but in the same line of sight.'\n",
    "\n",
    "    '\"The combined power of the James Webb Space Telescope and the galaxy\\'s magnification due to gravitational '\n",
    "    'lensing allows us to study this galaxy in detail,\" Williams said.'\n",
    "]"
   ]
  },
  {
   "cell_type": "code",
   "execution_count": 3,
   "metadata": {},
   "outputs": [],
   "source": [
    "vectorizer = TfidfVectorizer()\n",
    "\n",
    "tfidf = vectorizer.fit_transform(corpus)\n",
    "# print(vectors)\n",
    "cosine_mat = cosine_similarity(tfidf, tfidf)"
   ]
  },
  {
   "cell_type": "code",
   "execution_count": 4,
   "metadata": {},
   "outputs": [],
   "source": [
    "from collections import defaultdict\n",
    "import numpy as np\n",
    "\n",
    "threshold = 0.05\n",
    "degrees = defaultdict(int)\n",
    "n = len(corpus)\n",
    "\n",
    "for i in range(n):\n",
    "    for j in range(n):\n",
    "        if cosine_mat[i][j] > threshold:\n",
    "            # cosine_mat[i][j] = 1\n",
    "            degrees[i] += 1\n",
    "        else:\n",
    "            cosine_mat[i][j] = 0\n",
    "\n",
    "for i in range(n):\n",
    "    for j in range(n):\n",
    "        cosine_mat[i][j] = cosine_mat[i][j] / degrees[i]\n",
    "    \n",
    "\n",
    "p_t_min_1 = np.ones(shape=len(degrees))/len(degrees)\n",
    "p_t = None\n",
    "for _ in range(10):\n",
    "    p_t = np.matmul(cosine_mat.T, p_t_min_1)\n",
    "\n"
   ]
  },
  {
   "cell_type": "code",
   "execution_count": 5,
   "metadata": {},
   "outputs": [
    {
     "data": {
      "text/plain": [
       "array([ 2, 12,  5, 15,  9,  7, 13,  3, 11,  1, 10, 14,  8,  4, 16,  0,  6],\n",
       "      dtype=int64)"
      ]
     },
     "execution_count": 5,
     "metadata": {},
     "output_type": "execute_result"
    }
   ],
   "source": [
    "lex_rank_sorted_indices = np.argsort(p_t)\n",
    "lex_rank_sorted_indices"
   ]
  },
  {
   "cell_type": "code",
   "execution_count": 7,
   "metadata": {},
   "outputs": [
    {
     "data": {
      "text/plain": [
       "[\"It existed about 510 million years after the Big Bang event marking the universe's origin. \",\n",
       " 'This galaxy, Kelly said, is \"absolutely tiny\" in relative terms.',\n",
       " 'The orbiting infrared observatory was designed to be far more sensitive than its Hubble Space Telescope predecessor.',\n",
       " 'Because so many fewer stars had lived and died at that time in the universe, such heavier elements were more scarce.',\n",
       " 'Webb looks at the universe mainly in the infrared, while Hubble has examined it primarily at optical and ultraviolet wavelengths. Webb possesses a much bigger light-collecting area, letting it look at greater distances, thus farther back into time, than Hubble.',\n",
       " '\"As we observe more and more of these distant galaxies, we\\'ll be able to put together a more complete picture of how the first galaxies in our universe came to be,\" Williams added. ',\n",
       " '\"Nonetheless, we found that it was forming about two stars each year, which is similar to the rate at which the Milky Way is forming stars,\" Kelly added.']"
      ]
     },
     "execution_count": 7,
     "metadata": {},
     "output_type": "execute_result"
    }
   ],
   "source": [
    "[corpus[i] for i in lex_rank_sorted_indices][:7]"
   ]
  },
  {
   "cell_type": "code",
   "execution_count": null,
   "metadata": {},
   "outputs": [],
   "source": []
  }
 ],
 "metadata": {
  "kernelspec": {
   "display_name": "cs6120-nlp",
   "language": "python",
   "name": "python3"
  },
  "language_info": {
   "codemirror_mode": {
    "name": "ipython",
    "version": 3
   },
   "file_extension": ".py",
   "mimetype": "text/x-python",
   "name": "python",
   "nbconvert_exporter": "python",
   "pygments_lexer": "ipython3",
   "version": "3.10.9"
  },
  "orig_nbformat": 4
 },
 "nbformat": 4,
 "nbformat_minor": 2
}
